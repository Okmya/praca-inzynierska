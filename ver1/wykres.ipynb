{
 "cells": [
  {
   "cell_type": "code",
   "execution_count": 1,
   "metadata": {},
   "outputs": [
    {
     "data": {
      "text/plain": [
       "'dane_z_poprawiona_iteracja.csv'"
      ]
     },
     "execution_count": 1,
     "metadata": {},
     "output_type": "execute_result"
    }
   ],
   "source": [
    "# Load the new dataset to analyze and add the \"iteration\" column\n",
    "import pandas as pd\n",
    "import numpy as np\n",
    "file_path_new = 'dane_do_laczonego_wykresu.csv'\n",
    "data_new = pd.read_csv(file_path_new)\n",
    "\n",
    "# Add a new column \"iteration\" where each 10,000 rows corresponds to a single iteration batch\n",
    "# Correct the \"iteration\" column to increment from 1 to the total number of rows\n",
    "data_new['iteracja'] = (np.arange(len(data_new)) % 10000) + 1\n",
    "\n",
    "# Save the corrected dataset to a new file\n",
    "corrected_file_path = 'dane_z_poprawiona_iteracja.csv'\n",
    "data_new.to_csv(corrected_file_path, index=False)\n",
    "\n",
    "corrected_file_path\n",
    "\n"
   ]
  }
 ],
 "metadata": {
  "kernelspec": {
   "display_name": "Python 3",
   "language": "python",
   "name": "python3"
  },
  "language_info": {
   "codemirror_mode": {
    "name": "ipython",
    "version": 3
   },
   "file_extension": ".py",
   "mimetype": "text/x-python",
   "name": "python",
   "nbconvert_exporter": "python",
   "pygments_lexer": "ipython3",
   "version": "3.12.4"
  }
 },
 "nbformat": 4,
 "nbformat_minor": 2
}
