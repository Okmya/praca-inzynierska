{
 "cells": [
  {
   "cell_type": "code",
   "execution_count": 3,
   "metadata": {},
   "outputs": [
    {
     "data": {
      "text/plain": [
       "'pan_tadeusz_oczyszczony.txt'"
      ]
     },
     "execution_count": 3,
     "metadata": {},
     "output_type": "execute_result"
    }
   ],
   "source": [
    "import os\n",
    "\n",
    "def clean_and_modify_text(input_file, output_file):\n",
    "    # Read the input file\n",
    "    with open(input_file, encoding=\"utf-8\") as file:\n",
    "        text = file.read()\n",
    "    text = text.lower()\n",
    "    replacements = {\n",
    "        \"...\": \".\",\n",
    "        \"á\": \"a\",\n",
    "        \"æ\": \"ae\",\n",
    "    }\n",
    "    for old, new in replacements.items():\n",
    "        text = text.replace(old, new)\n",
    "    with open(output_file, \"w\", encoding=\"utf-8\") as file:\n",
    "        file.write(text)\n",
    "\n",
    "# Define file paths\n",
    "input_file_path = \"pan-tadeusz.txt\"\n",
    "output_file_path = \"pan_tadeusz_oczyszczony.txt\"\n",
    "\n",
    "# Clean and modify the text\n",
    "clean_and_modify_text(input_file_path, output_file_path)\n",
    "\n",
    "# Output the path to the cleaned file\n",
    "output_file_path\n"
   ]
  },
  {
   "cell_type": "code",
   "execution_count": null,
   "metadata": {},
   "outputs": [],
   "source": []
  },
  {
   "cell_type": "code",
   "execution_count": null,
   "metadata": {},
   "outputs": [],
   "source": []
  }
 ],
 "metadata": {
  "kernelspec": {
   "display_name": "Python 3",
   "language": "python",
   "name": "python3"
  },
  "language_info": {
   "codemirror_mode": {
    "name": "ipython",
    "version": 3
   },
   "file_extension": ".py",
   "mimetype": "text/x-python",
   "name": "python",
   "nbconvert_exporter": "python",
   "pygments_lexer": "ipython3",
   "version": "3.12.4"
  }
 },
 "nbformat": 4,
 "nbformat_minor": 2
}
